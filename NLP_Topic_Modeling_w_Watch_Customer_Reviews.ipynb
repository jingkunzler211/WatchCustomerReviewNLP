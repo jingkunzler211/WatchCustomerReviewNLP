{
  "nbformat": 4,
  "nbformat_minor": 0,
  "metadata": {
    "colab": {
      "name": "NLP Topic Modeling w Watch Customer Reviews.ipynb",
      "provenance": [],
      "collapsed_sections": []
    },
    "kernelspec": {
      "name": "python3",
      "display_name": "Python 3"
    }
  },
  "cells": [
    {
      "cell_type": "markdown",
      "metadata": {
        "id": "Xp3LTq59E8UK"
      },
      "source": [
        "# Document Clustering and Topic Modeling"
      ]
    },
    {
      "cell_type": "markdown",
      "metadata": {
        "id": "mS-ob0Q8E8UM"
      },
      "source": [
        "In this project, we use unsupervised learning models to cluster unlabeled documents into different groups, visualize the results and identify their latent topics/structures."
      ]
    },
    {
      "cell_type": "markdown",
      "metadata": {
        "id": "ZE7Qr-ccE8UN"
      },
      "source": [
        "## Contents"
      ]
    },
    {
      "cell_type": "markdown",
      "metadata": {
        "id": "2S0waFW9E8UO"
      },
      "source": [
        "* [Part 1: Load Data](#Part-1:-Load-Data)\n",
        "* [Part 2: Tokenizing and Stemming](#Part-2:-Tokenizing-and-Stemming)\n",
        "* [Part 3: TF-IDF](#Part-3:-TF-IDF)\n",
        "* [Part 4: K-means clustering](#Part-4:-K-means-clustering)\n",
        "* [Part 5: Topic Modeling - Latent Dirichlet Allocation](#Part-5:-Topic-Modeling---Latent-Dirichlet-Allocation)\n"
      ]
    },
    {
      "cell_type": "markdown",
      "metadata": {
        "id": "5nXGAelMjJFq"
      },
      "source": [
        "# Part 0: Setup Google Drive Environment"
      ]
    },
    {
      "cell_type": "code",
      "metadata": {
        "id": "6eT1n7oijJ8v"
      },
      "source": [
        "!pip install -U -q PyDrive\n",
        "\n",
        "from pydrive.auth import GoogleAuth\n",
        "from pydrive.drive import GoogleDrive\n",
        "from google.colab import auth\n",
        "from oauth2client.client import GoogleCredentials\n",
        "\n",
        "auth.authenticate_user()\n",
        "gauth = GoogleAuth()\n",
        "gauth.credentials = GoogleCredentials.get_application_default()\n",
        "drive = GoogleDrive(gauth)"
      ],
      "execution_count": null,
      "outputs": []
    },
    {
      "cell_type": "code",
      "metadata": {
        "id": "0N2bb9S6jKGh"
      },
      "source": [
        "file = drive.CreateFile({'id':'1cQ81XJ0zduruIM2CkDTkHTuFP3ngKpad'}) \n",
        "file.GetContentFile('watch_reviews.tsv')  # tab separate"
      ],
      "execution_count": null,
      "outputs": []
    },
    {
      "cell_type": "markdown",
      "metadata": {
        "id": "Nc9DK62BE8UP"
      },
      "source": [
        "# Part 1: Load Data"
      ]
    },
    {
      "cell_type": "code",
      "metadata": {
        "id": "OjdBV8gGE8UQ",
        "colab": {
          "base_uri": "https://localhost:8080/"
        },
        "outputId": "cc987aa6-029d-4aaf-b919-14ef8c9f524c"
      },
      "source": [
        "import numpy as np\n",
        "import pandas as pd\n",
        "import nltk\n",
        "# import gensim\n",
        "\n",
        "from sklearn.feature_extraction.text import TfidfVectorizer\n",
        "import matplotlib.pyplot as plt\n",
        "\n",
        "nltk.download('punkt')\n",
        "nltk.download('stopwords')"
      ],
      "execution_count": null,
      "outputs": [
        {
          "output_type": "stream",
          "text": [
            "[nltk_data] Downloading package punkt to /root/nltk_data...\n",
            "[nltk_data]   Unzipping tokenizers/punkt.zip.\n",
            "[nltk_data] Downloading package stopwords to /root/nltk_data...\n",
            "[nltk_data]   Unzipping corpora/stopwords.zip.\n"
          ],
          "name": "stdout"
        },
        {
          "output_type": "execute_result",
          "data": {
            "text/plain": [
              "True"
            ]
          },
          "metadata": {
            "tags": []
          },
          "execution_count": 3
        }
      ]
    },
    {
      "cell_type": "code",
      "metadata": {
        "id": "sIj2Z8T70FZD",
        "colab": {
          "base_uri": "https://localhost:8080/"
        },
        "outputId": "45ffa7fc-d0f7-4948-c31e-2167868ad7db"
      },
      "source": [
        "# Load data into dataframe\n",
        "df = pd.read_csv('watch_reviews.tsv', sep='\\t', error_bad_lines=False)"
      ],
      "execution_count": null,
      "outputs": [
        {
          "output_type": "stream",
          "text": [
            "b'Skipping line 8704: expected 15 fields, saw 22\\nSkipping line 16933: expected 15 fields, saw 22\\nSkipping line 23726: expected 15 fields, saw 22\\n'\n",
            "b'Skipping line 85637: expected 15 fields, saw 22\\n'\n",
            "b'Skipping line 132136: expected 15 fields, saw 22\\nSkipping line 158070: expected 15 fields, saw 22\\nSkipping line 166007: expected 15 fields, saw 22\\nSkipping line 171877: expected 15 fields, saw 22\\nSkipping line 177756: expected 15 fields, saw 22\\nSkipping line 181773: expected 15 fields, saw 22\\nSkipping line 191085: expected 15 fields, saw 22\\nSkipping line 196273: expected 15 fields, saw 22\\nSkipping line 196331: expected 15 fields, saw 22\\n'\n",
            "b'Skipping line 197000: expected 15 fields, saw 22\\nSkipping line 197011: expected 15 fields, saw 22\\nSkipping line 197432: expected 15 fields, saw 22\\nSkipping line 208016: expected 15 fields, saw 22\\nSkipping line 214110: expected 15 fields, saw 22\\nSkipping line 244328: expected 15 fields, saw 22\\nSkipping line 248519: expected 15 fields, saw 22\\nSkipping line 254936: expected 15 fields, saw 22\\n'\n",
            "b'Skipping line 272057: expected 15 fields, saw 22\\nSkipping line 293214: expected 15 fields, saw 22\\nSkipping line 310507: expected 15 fields, saw 22\\nSkipping line 312306: expected 15 fields, saw 22\\nSkipping line 316296: expected 15 fields, saw 22\\n'\n",
            "b'Skipping line 336028: expected 15 fields, saw 22\\nSkipping line 344885: expected 15 fields, saw 22\\nSkipping line 352551: expected 15 fields, saw 22\\n'\n",
            "b'Skipping line 408773: expected 15 fields, saw 22\\nSkipping line 434535: expected 15 fields, saw 22\\n'\n",
            "b'Skipping line 581593: expected 15 fields, saw 22\\n'\n",
            "b'Skipping line 652409: expected 15 fields, saw 22\\n'\n"
          ],
          "name": "stderr"
        }
      ]
    },
    {
      "cell_type": "code",
      "metadata": {
        "id": "oVIWPym-8MnJ",
        "colab": {
          "base_uri": "https://localhost:8080/",
          "height": 563
        },
        "outputId": "19fc0535-1ea9-46d0-ade8-af535da9be49"
      },
      "source": [
        "df.head()"
      ],
      "execution_count": null,
      "outputs": [
        {
          "output_type": "execute_result",
          "data": {
            "text/html": [
              "<div>\n",
              "<style scoped>\n",
              "    .dataframe tbody tr th:only-of-type {\n",
              "        vertical-align: middle;\n",
              "    }\n",
              "\n",
              "    .dataframe tbody tr th {\n",
              "        vertical-align: top;\n",
              "    }\n",
              "\n",
              "    .dataframe thead th {\n",
              "        text-align: right;\n",
              "    }\n",
              "</style>\n",
              "<table border=\"1\" class=\"dataframe\">\n",
              "  <thead>\n",
              "    <tr style=\"text-align: right;\">\n",
              "      <th></th>\n",
              "      <th>marketplace</th>\n",
              "      <th>customer_id</th>\n",
              "      <th>review_id</th>\n",
              "      <th>product_id</th>\n",
              "      <th>product_parent</th>\n",
              "      <th>product_title</th>\n",
              "      <th>product_category</th>\n",
              "      <th>star_rating</th>\n",
              "      <th>helpful_votes</th>\n",
              "      <th>total_votes</th>\n",
              "      <th>vine</th>\n",
              "      <th>verified_purchase</th>\n",
              "      <th>review_headline</th>\n",
              "      <th>review_body</th>\n",
              "      <th>review_date</th>\n",
              "    </tr>\n",
              "  </thead>\n",
              "  <tbody>\n",
              "    <tr>\n",
              "      <th>0</th>\n",
              "      <td>US</td>\n",
              "      <td>3653882</td>\n",
              "      <td>R3O9SGZBVQBV76</td>\n",
              "      <td>B00FALQ1ZC</td>\n",
              "      <td>937001370</td>\n",
              "      <td>Invicta Women's 15150 \"Angel\" 18k Yellow Gold ...</td>\n",
              "      <td>Watches</td>\n",
              "      <td>5</td>\n",
              "      <td>0</td>\n",
              "      <td>0</td>\n",
              "      <td>N</td>\n",
              "      <td>Y</td>\n",
              "      <td>Five Stars</td>\n",
              "      <td>Absolutely love this watch! Get compliments al...</td>\n",
              "      <td>2015-08-31</td>\n",
              "    </tr>\n",
              "    <tr>\n",
              "      <th>1</th>\n",
              "      <td>US</td>\n",
              "      <td>14661224</td>\n",
              "      <td>RKH8BNC3L5DLF</td>\n",
              "      <td>B00D3RGO20</td>\n",
              "      <td>484010722</td>\n",
              "      <td>Kenneth Cole New York Women's KC4944 Automatic...</td>\n",
              "      <td>Watches</td>\n",
              "      <td>5</td>\n",
              "      <td>0</td>\n",
              "      <td>0</td>\n",
              "      <td>N</td>\n",
              "      <td>Y</td>\n",
              "      <td>I love thiswatch it keeps time wonderfully</td>\n",
              "      <td>I love this watch it keeps time wonderfully.</td>\n",
              "      <td>2015-08-31</td>\n",
              "    </tr>\n",
              "    <tr>\n",
              "      <th>2</th>\n",
              "      <td>US</td>\n",
              "      <td>27324930</td>\n",
              "      <td>R2HLE8WKZSU3NL</td>\n",
              "      <td>B00DKYC7TK</td>\n",
              "      <td>361166390</td>\n",
              "      <td>Ritche 22mm Black Stainless Steel Bracelet Wat...</td>\n",
              "      <td>Watches</td>\n",
              "      <td>2</td>\n",
              "      <td>1</td>\n",
              "      <td>1</td>\n",
              "      <td>N</td>\n",
              "      <td>Y</td>\n",
              "      <td>Two Stars</td>\n",
              "      <td>Scratches</td>\n",
              "      <td>2015-08-31</td>\n",
              "    </tr>\n",
              "    <tr>\n",
              "      <th>3</th>\n",
              "      <td>US</td>\n",
              "      <td>7211452</td>\n",
              "      <td>R31U3UH5AZ42LL</td>\n",
              "      <td>B000EQS1JW</td>\n",
              "      <td>958035625</td>\n",
              "      <td>Citizen Men's BM8180-03E Eco-Drive Stainless S...</td>\n",
              "      <td>Watches</td>\n",
              "      <td>5</td>\n",
              "      <td>0</td>\n",
              "      <td>0</td>\n",
              "      <td>N</td>\n",
              "      <td>Y</td>\n",
              "      <td>Five Stars</td>\n",
              "      <td>It works well on me. However, I found cheaper ...</td>\n",
              "      <td>2015-08-31</td>\n",
              "    </tr>\n",
              "    <tr>\n",
              "      <th>4</th>\n",
              "      <td>US</td>\n",
              "      <td>12733322</td>\n",
              "      <td>R2SV659OUJ945Y</td>\n",
              "      <td>B00A6GFD7S</td>\n",
              "      <td>765328221</td>\n",
              "      <td>Orient ER27009B Men's Symphony Automatic Stain...</td>\n",
              "      <td>Watches</td>\n",
              "      <td>4</td>\n",
              "      <td>0</td>\n",
              "      <td>0</td>\n",
              "      <td>N</td>\n",
              "      <td>Y</td>\n",
              "      <td>Beautiful face, but cheap sounding links</td>\n",
              "      <td>Beautiful watch face.  The band looks nice all...</td>\n",
              "      <td>2015-08-31</td>\n",
              "    </tr>\n",
              "  </tbody>\n",
              "</table>\n",
              "</div>"
            ],
            "text/plain": [
              "  marketplace  ...  review_date\n",
              "0          US  ...   2015-08-31\n",
              "1          US  ...   2015-08-31\n",
              "2          US  ...   2015-08-31\n",
              "3          US  ...   2015-08-31\n",
              "4          US  ...   2015-08-31\n",
              "\n",
              "[5 rows x 15 columns]"
            ]
          },
          "metadata": {
            "tags": []
          },
          "execution_count": 5
        }
      ]
    },
    {
      "cell_type": "code",
      "metadata": {
        "id": "aoRSRJzZA7eT"
      },
      "source": [
        "# Remove missing value\n",
        "df.dropna(subset=['review_body'],inplace=True)"
      ],
      "execution_count": null,
      "outputs": []
    },
    {
      "cell_type": "code",
      "metadata": {
        "id": "bbRq4wqlpV_s"
      },
      "source": [
        "df.reset_index(inplace=True, drop=True)"
      ],
      "execution_count": null,
      "outputs": []
    },
    {
      "cell_type": "code",
      "metadata": {
        "id": "oDJY4z3qoB77",
        "colab": {
          "base_uri": "https://localhost:8080/"
        },
        "outputId": "9e35f35c-e613-49ed-c29a-1592131752e9"
      },
      "source": [
        "df.info()"
      ],
      "execution_count": null,
      "outputs": [
        {
          "output_type": "stream",
          "text": [
            "<class 'pandas.core.frame.DataFrame'>\n",
            "RangeIndex: 960056 entries, 0 to 960055\n",
            "Data columns (total 15 columns):\n",
            " #   Column             Non-Null Count   Dtype \n",
            "---  ------             --------------   ----- \n",
            " 0   marketplace        960056 non-null  object\n",
            " 1   customer_id        960056 non-null  int64 \n",
            " 2   review_id          960056 non-null  object\n",
            " 3   product_id         960056 non-null  object\n",
            " 4   product_parent     960056 non-null  int64 \n",
            " 5   product_title      960054 non-null  object\n",
            " 6   product_category   960056 non-null  object\n",
            " 7   star_rating        960056 non-null  int64 \n",
            " 8   helpful_votes      960056 non-null  int64 \n",
            " 9   total_votes        960056 non-null  int64 \n",
            " 10  vine               960056 non-null  object\n",
            " 11  verified_purchase  960056 non-null  object\n",
            " 12  review_headline    960049 non-null  object\n",
            " 13  review_body        960056 non-null  object\n",
            " 14  review_date        960052 non-null  object\n",
            "dtypes: int64(5), object(10)\n",
            "memory usage: 109.9+ MB\n"
          ],
          "name": "stdout"
        }
      ]
    },
    {
      "cell_type": "code",
      "metadata": {
        "id": "VbKDogiW79a6"
      },
      "source": [
        "# use the first 400,002 data as our training data\n",
        "data = df.loc[:400001, 'review_body'].tolist()"
      ],
      "execution_count": null,
      "outputs": []
    },
    {
      "cell_type": "markdown",
      "metadata": {
        "id": "iQ4KGnVeE8UX"
      },
      "source": [
        "# Part 2: Tokenizing and Stemming"
      ]
    },
    {
      "cell_type": "markdown",
      "metadata": {
        "collapsed": true,
        "id": "GHHIaFATE8UY"
      },
      "source": [
        "Load stopwords and stemmer function from NLTK library.\n",
        "Stop words are words like \"a\", \"the\", or \"in\" which don't convey significant meaning.\n",
        "Stemming is the process of breaking a word down into its root."
      ]
    },
    {
      "cell_type": "code",
      "metadata": {
        "id": "3gSwiUBRE8UY",
        "colab": {
          "base_uri": "https://localhost:8080/"
        },
        "outputId": "98fe9af6-fca3-41bf-cf3f-f073eff96f68"
      },
      "source": [
        "# Use nltk's English stopwords.\n",
        "stopwords = nltk.corpus.stopwords.words('english')\n",
        "stopwords.append(\"'s\")\n",
        "stopwords.append(\"'m\")\n",
        "stopwords.append(\"n't\")\n",
        "stopwords.append(\"br\")\n",
        "\n",
        "print (\"We use \" + str(len(stopwords)) + \" stop-words from nltk library.\")\n",
        "print (stopwords[:11])"
      ],
      "execution_count": null,
      "outputs": [
        {
          "output_type": "stream",
          "text": [
            "We use 183 stop-words from nltk library.\n",
            "['i', 'me', 'my', 'myself', 'we', 'our', 'ours', 'ourselves', 'you', \"you're\", \"you've\"]\n"
          ],
          "name": "stdout"
        }
      ]
    },
    {
      "cell_type": "markdown",
      "metadata": {
        "id": "WtDXMCeME8Uh"
      },
      "source": [
        "Use our defined functions to analyze (i.e. tokenize, stem) our reviews."
      ]
    },
    {
      "cell_type": "code",
      "metadata": {
        "id": "e50130X8E8Uc"
      },
      "source": [
        "from nltk.stem.snowball import SnowballStemmer\n",
        "\n",
        "stemmer = SnowballStemmer(\"english\")\n",
        "\n",
        "# tokenization and stemming\n",
        "def tokenization_and_stemming(text):\n",
        "    tokens = []\n",
        "    # exclude stop words and tokenize the document, generate a list of string \n",
        "    for word in nltk.word_tokenize(text):\n",
        "        if word.lower() not in stopwords:\n",
        "            tokens.append(word.lower())\n",
        "\n",
        "    filtered_tokens = []\n",
        "    \n",
        "    # filter out any tokens not containing letters (e.g., numeric tokens, raw punctuation)\n",
        "    for token in tokens:\n",
        "        if token.isalpha():\n",
        "            filtered_tokens.append(token)\n",
        "            \n",
        "    # stemming\n",
        "    stems = [stemmer.stem(t) for t in filtered_tokens]\n",
        "    return stems"
      ],
      "execution_count": null,
      "outputs": []
    },
    {
      "cell_type": "code",
      "metadata": {
        "id": "ywzEhcMIN5K6",
        "colab": {
          "base_uri": "https://localhost:8080/"
        },
        "outputId": "2dce37f5-ccf9-4177-d2a0-547c79de2b70"
      },
      "source": [
        "tokenization_and_stemming(data[0])"
      ],
      "execution_count": null,
      "outputs": [
        {
          "output_type": "execute_result",
          "data": {
            "text/plain": [
              "['absolut',\n",
              " 'love',\n",
              " 'watch',\n",
              " 'get',\n",
              " 'compliment',\n",
              " 'almost',\n",
              " 'everi',\n",
              " 'time',\n",
              " 'wear',\n",
              " 'dainti']"
            ]
          },
          "metadata": {
            "tags": []
          },
          "execution_count": 12
        }
      ]
    },
    {
      "cell_type": "code",
      "metadata": {
        "id": "OpVJjUke4YYp",
        "colab": {
          "base_uri": "https://localhost:8080/",
          "height": 35
        },
        "outputId": "cafbe6a6-f224-49d1-fbf4-ff0c63e6f913"
      },
      "source": [
        "data[0]"
      ],
      "execution_count": null,
      "outputs": [
        {
          "output_type": "execute_result",
          "data": {
            "application/vnd.google.colaboratory.intrinsic+json": {
              "type": "string"
            },
            "text/plain": [
              "'Absolutely love this watch! Get compliments almost every time I wear it. Dainty.'"
            ]
          },
          "metadata": {
            "tags": []
          },
          "execution_count": 13
        }
      ]
    },
    {
      "cell_type": "markdown",
      "metadata": {
        "collapsed": true,
        "id": "QAWdFqL5E8Uo"
      },
      "source": [
        "# Part 3: TF-IDF\n",
        "\n",
        "TF: Term Frequency\n",
        "\n",
        "IDF: Inverse Document Frequency\n",
        "\n",
        "***example:***\n",
        "(1,2)\n",
        "dictionary :[Arthur, da, Jason, huang, arthur da, da jason, jason da, da da, da huang]\n",
        "\n",
        "document1: \"Arthur da Jason\"\n",
        "\n",
        "document 2: \"Jason da da huang\"\n",
        "\n",
        "document1: tf-idf [1, 0.5, 0.5, 0];  document2: tf-idf [0, 1, 0.5, 1]  \n",
        "\n",
        "2-gram: \n",
        "\n",
        "document 1: Arthur da, da Jason; document 2: Jason da, da da, da huang bigram\n",
        "\n",
        "3-gram:\n",
        "\n",
        "document 1: Athur da Jason;  document 2: Jason da da, da da huang\n",
        "\n",
        "[Arhur, da, Jason...]"
      ]
    },
    {
      "cell_type": "code",
      "metadata": {
        "id": "k-XH7R4pE8Up",
        "colab": {
          "base_uri": "https://localhost:8080/"
        },
        "outputId": "eb154da1-4ece-4c4a-89d4-aaad2011a4cc"
      },
      "source": [
        "from sklearn.feature_extraction.text import TfidfVectorizer\n",
        "# define vectorizer parameters\n",
        "# TfidfVectorizer will help us to create tf-idf matrix\n",
        "# max_df : maximum document frequency for the given word\n",
        "# min_df : minimum document frequency for the given word\n",
        "# max_features: maximum number of words\n",
        "# use_idf: if not true, we only calculate tf\n",
        "# stop_words : built-in stop words\n",
        "# tokenizer: how to tokenize the document\n",
        "# ngram_range: (min_value, max_value), eg. (1, 3) means the result will include 1-gram, 2-gram, 3-gram\n",
        "tfidf_model = TfidfVectorizer(max_df=0.99, max_features=1000,\n",
        "                                 min_df=0.01, stop_words='english',\n",
        "                                 use_idf=True, tokenizer=tokenization_and_stemming, ngram_range=(1,1))\n",
        "\n",
        "tfidf_matrix = tfidf_model.fit_transform(data) #fit the vectorizer to synopses\n",
        "\n",
        "print (\"In total, there are \" + str(tfidf_matrix.shape[0]) + \\\n",
        "      \" reviews and \" + str(tfidf_matrix.shape[1]) + \" terms.\")"
      ],
      "execution_count": null,
      "outputs": [
        {
          "output_type": "stream",
          "text": [
            "/usr/local/lib/python3.7/dist-packages/sklearn/feature_extraction/text.py:385: UserWarning: Your stop_words may be inconsistent with your preprocessing. Tokenizing the stop words generated tokens ['afterward', 'alon', 'alreadi', 'alway', 'anoth', 'anyon', 'anyth', 'anywher', 'becam', 'becom', 'besid', 'cri', 'describ', 'els', 'elsewher', 'empti', 'everi', 'everyon', 'everyth', 'everywher', 'fifti', 'forti', 'henc', 'hereaft', 'herebi', 'howev', 'hundr', 'inde', 'mani', 'meanwhil', 'moreov', 'nobodi', 'noon', 'noth', 'nowher', 'otherwis', 'perhap', 'pleas', 'sever', 'sinc', 'sincer', 'sixti', 'someon', 'someth', 'sometim', 'somewher', 'thenc', 'thereaft', 'therebi', 'therefor', 'togeth', 'twelv', 'twenti', 'whatev', 'whenc', 'whenev', 'wherea', 'whereaft', 'wherebi', 'wherev'] not in stop_words.\n",
            "  'stop_words.' % sorted(inconsistent))\n"
          ],
          "name": "stderr"
        },
        {
          "output_type": "stream",
          "text": [
            "In total, there are 400002 reviews and 218 terms.\n"
          ],
          "name": "stdout"
        }
      ]
    },
    {
      "cell_type": "code",
      "metadata": {
        "id": "GoRH6IDVE8Ur",
        "colab": {
          "base_uri": "https://localhost:8080/"
        },
        "outputId": "256076fb-a184-4d7e-da3f-2b95eb4f9344"
      },
      "source": [
        "# check the parameters\n",
        "tfidf_model.get_params()"
      ],
      "execution_count": null,
      "outputs": [
        {
          "output_type": "execute_result",
          "data": {
            "text/plain": [
              "{'analyzer': 'word',\n",
              " 'binary': False,\n",
              " 'decode_error': 'strict',\n",
              " 'dtype': numpy.float64,\n",
              " 'encoding': 'utf-8',\n",
              " 'input': 'content',\n",
              " 'lowercase': True,\n",
              " 'max_df': 0.99,\n",
              " 'max_features': 1000,\n",
              " 'min_df': 0.01,\n",
              " 'ngram_range': (1, 1),\n",
              " 'norm': 'l2',\n",
              " 'preprocessor': None,\n",
              " 'smooth_idf': True,\n",
              " 'stop_words': 'english',\n",
              " 'strip_accents': None,\n",
              " 'sublinear_tf': False,\n",
              " 'token_pattern': '(?u)\\\\b\\\\w\\\\w+\\\\b',\n",
              " 'tokenizer': <function __main__.tokenization_and_stemming>,\n",
              " 'use_idf': True,\n",
              " 'vocabulary': None}"
            ]
          },
          "metadata": {
            "tags": []
          },
          "execution_count": 16
        }
      ]
    },
    {
      "cell_type": "code",
      "metadata": {
        "id": "y1JYAhxDKmmE",
        "colab": {
          "base_uri": "https://localhost:8080/"
        },
        "outputId": "b380c0d9-3f9b-4466-e057-f8063da8f4d6"
      },
      "source": [
        "tfidf_matrix.todense()"
      ],
      "execution_count": null,
      "outputs": [
        {
          "output_type": "execute_result",
          "data": {
            "text/plain": [
              "matrix([[0.        , 0.50544265, 0.        , ..., 0.        , 0.        ,\n",
              "         0.        ],\n",
              "        [0.        , 0.        , 0.        , ..., 0.        , 0.        ,\n",
              "         0.        ],\n",
              "        [0.        , 0.        , 0.        , ..., 0.        , 0.        ,\n",
              "         0.        ],\n",
              "        ...,\n",
              "        [0.        , 0.        , 0.        , ..., 0.        , 0.        ,\n",
              "         0.        ],\n",
              "        [0.        , 0.        , 0.        , ..., 0.        , 0.        ,\n",
              "         0.        ],\n",
              "        [0.        , 0.        , 0.        , ..., 0.        , 0.10080303,\n",
              "         0.        ]])"
            ]
          },
          "metadata": {
            "tags": []
          },
          "execution_count": 17
        }
      ]
    },
    {
      "cell_type": "markdown",
      "metadata": {
        "id": "whu1pCOiE8Uv"
      },
      "source": [
        "Save the terms identified by TF-IDF."
      ]
    },
    {
      "cell_type": "code",
      "metadata": {
        "id": "lLdKk6n-E8Uw"
      },
      "source": [
        "# words\n",
        "tf_selected_words = tfidf_model.get_feature_names()"
      ],
      "execution_count": null,
      "outputs": []
    },
    {
      "cell_type": "code",
      "metadata": {
        "id": "6mWvzNWQFB26",
        "colab": {
          "base_uri": "https://localhost:8080/"
        },
        "outputId": "7ebe5e23-31a2-4233-854b-23881317c0bd"
      },
      "source": [
        "# print out words\n",
        "tf_selected_words"
      ],
      "execution_count": null,
      "outputs": [
        {
          "output_type": "execute_result",
          "data": {
            "text/plain": [
              "['abl',\n",
              " 'absolut',\n",
              " 'accur',\n",
              " 'actual',\n",
              " 'adjust',\n",
              " 'alarm',\n",
              " 'alreadi',\n",
              " 'alway',\n",
              " 'amaz',\n",
              " 'amazon',\n",
              " 'anoth',\n",
              " 'appear',\n",
              " 'arriv',\n",
              " 'awesom',\n",
              " 'bad',\n",
              " 'band',\n",
              " 'batteri',\n",
              " 'beauti',\n",
              " 'best',\n",
              " 'better',\n",
              " 'big',\n",
              " 'bit',\n",
              " 'black',\n",
              " 'blue',\n",
              " 'bought',\n",
              " 'box',\n",
              " 'bracelet',\n",
              " 'brand',\n",
              " 'broke',\n",
              " 'button',\n",
              " 'buy',\n",
              " 'ca',\n",
              " 'came',\n",
              " 'case',\n",
              " 'casio',\n",
              " 'casual',\n",
              " 'chang',\n",
              " 'cheap',\n",
              " 'christma',\n",
              " 'clasp',\n",
              " 'classi',\n",
              " 'clock',\n",
              " 'color',\n",
              " 'come',\n",
              " 'comfort',\n",
              " 'compliment',\n",
              " 'cool',\n",
              " 'cost',\n",
              " 'coupl',\n",
              " 'cute',\n",
              " 'dark',\n",
              " 'date',\n",
              " 'daughter',\n",
              " 'day',\n",
              " 'deal',\n",
              " 'definit',\n",
              " 'design',\n",
              " 'dial',\n",
              " 'differ',\n",
              " 'difficult',\n",
              " 'disappoint',\n",
              " 'display',\n",
              " 'durabl',\n",
              " 'easi',\n",
              " 'easili',\n",
              " 'eleg',\n",
              " 'end',\n",
              " 'everi',\n",
              " 'everyday',\n",
              " 'everyth',\n",
              " 'exact',\n",
              " 'excel',\n",
              " 'expect',\n",
              " 'expens',\n",
              " 'face',\n",
              " 'far',\n",
              " 'fast',\n",
              " 'featur',\n",
              " 'feel',\n",
              " 'fine',\n",
              " 'fit',\n",
              " 'friend',\n",
              " 'function',\n",
              " 'gave',\n",
              " 'gift',\n",
              " 'glass',\n",
              " 'gold',\n",
              " 'good',\n",
              " 'got',\n",
              " 'great',\n",
              " 'hand',\n",
              " 'happi',\n",
              " 'hard',\n",
              " 'heavi',\n",
              " 'high',\n",
              " 'hold',\n",
              " 'hope',\n",
              " 'hour',\n",
              " 'howev',\n",
              " 'husband',\n",
              " 'instruct',\n",
              " 'invicta',\n",
              " 'issu',\n",
              " 'item',\n",
              " 'know',\n",
              " 'larg',\n",
              " 'larger',\n",
              " 'leather',\n",
              " 'light',\n",
              " 'like',\n",
              " 'link',\n",
              " 'littl',\n",
              " 'long',\n",
              " 'look',\n",
              " 'lot',\n",
              " 'love',\n",
              " 'make',\n",
              " 'mani',\n",
              " 'metal',\n",
              " 'minut',\n",
              " 'model',\n",
              " 'money',\n",
              " 'month',\n",
              " 'movement',\n",
              " 'need',\n",
              " 'new',\n",
              " 'nice',\n",
              " 'night',\n",
              " 'number',\n",
              " 'ok',\n",
              " 'old',\n",
              " 'open',\n",
              " 'order',\n",
              " 'origin',\n",
              " 'overal',\n",
              " 'packag',\n",
              " 'pay',\n",
              " 'peopl',\n",
              " 'perfect',\n",
              " 'person',\n",
              " 'pictur',\n",
              " 'piec',\n",
              " 'pin',\n",
              " 'plastic',\n",
              " 'pleas',\n",
              " 'pretti',\n",
              " 'price',\n",
              " 'problem',\n",
              " 'product',\n",
              " 'purchas',\n",
              " 'qualiti',\n",
              " 'quick',\n",
              " 'quit',\n",
              " 'read',\n",
              " 'real',\n",
              " 'realli',\n",
              " 'reason',\n",
              " 'receiv',\n",
              " 'recommend',\n",
              " 'remov',\n",
              " 'replac',\n",
              " 'return',\n",
              " 'review',\n",
              " 'right',\n",
              " 'run',\n",
              " 'said',\n",
              " 'say',\n",
              " 'scratch',\n",
              " 'second',\n",
              " 'seiko',\n",
              " 'seller',\n",
              " 'servic',\n",
              " 'set',\n",
              " 'sever',\n",
              " 'ship',\n",
              " 'simpl',\n",
              " 'sinc',\n",
              " 'size',\n",
              " 'small',\n",
              " 'smaller',\n",
              " 'solid',\n",
              " 'someth',\n",
              " 'son',\n",
              " 'star',\n",
              " 'start',\n",
              " 'stop',\n",
              " 'strap',\n",
              " 'style',\n",
              " 'stylish',\n",
              " 'super',\n",
              " 'sure',\n",
              " 'tell',\n",
              " 'thank',\n",
              " 'thing',\n",
              " 'think',\n",
              " 'thought',\n",
              " 'time',\n",
              " 'timex',\n",
              " 'took',\n",
              " 'tri',\n",
              " 'turn',\n",
              " 'use',\n",
              " 'valu',\n",
              " 'want',\n",
              " 'watch',\n",
              " 'water',\n",
              " 'way',\n",
              " 'wear',\n",
              " 'week',\n",
              " 'weight',\n",
              " 'white',\n",
              " 'wife',\n",
              " 'wish',\n",
              " 'work',\n",
              " 'worn',\n",
              " 'worth',\n",
              " 'wrist',\n",
              " 'year']"
            ]
          },
          "metadata": {
            "tags": []
          },
          "execution_count": 19
        }
      ]
    },
    {
      "cell_type": "markdown",
      "metadata": {
        "id": "XEcwtws5E8U8"
      },
      "source": [
        "# Part 4: K-means clustering"
      ]
    },
    {
      "cell_type": "code",
      "metadata": {
        "scrolled": true,
        "id": "7LJQ5i3IE8U9"
      },
      "source": [
        "# k-means clustering\n",
        "from sklearn.cluster import KMeans\n",
        "\n",
        "num_clusters = 5\n",
        "\n",
        "# number of clusters\n",
        "km = KMeans(n_clusters=num_clusters)\n",
        "km.fit(tfidf_matrix)\n",
        "\n",
        "clusters = km.labels_.tolist()"
      ],
      "execution_count": null,
      "outputs": []
    },
    {
      "cell_type": "markdown",
      "metadata": {
        "id": "fboVpRAfE8U-"
      },
      "source": [
        "## 4.1. Analyze K-means Result"
      ]
    },
    {
      "cell_type": "code",
      "metadata": {
        "id": "KGs4aIIME8U_"
      },
      "source": [
        "# create DataFrame films from all of the input files.\n",
        "product = { 'review': df[:400002].review_body, 'cluster': clusters}\n",
        "frame = pd.DataFrame(product, columns = ['review', 'cluster'])"
      ],
      "execution_count": null,
      "outputs": []
    },
    {
      "cell_type": "code",
      "metadata": {
        "id": "APmEUmm6E8VC",
        "colab": {
          "base_uri": "https://localhost:8080/",
          "height": 358
        },
        "outputId": "f929a0ed-948d-4714-f6f7-9c04b362d2ed"
      },
      "source": [
        "frame.head(10)"
      ],
      "execution_count": null,
      "outputs": [
        {
          "output_type": "execute_result",
          "data": {
            "text/html": [
              "<div>\n",
              "<style scoped>\n",
              "    .dataframe tbody tr th:only-of-type {\n",
              "        vertical-align: middle;\n",
              "    }\n",
              "\n",
              "    .dataframe tbody tr th {\n",
              "        vertical-align: top;\n",
              "    }\n",
              "\n",
              "    .dataframe thead th {\n",
              "        text-align: right;\n",
              "    }\n",
              "</style>\n",
              "<table border=\"1\" class=\"dataframe\">\n",
              "  <thead>\n",
              "    <tr style=\"text-align: right;\">\n",
              "      <th></th>\n",
              "      <th>review</th>\n",
              "      <th>cluster</th>\n",
              "    </tr>\n",
              "  </thead>\n",
              "  <tbody>\n",
              "    <tr>\n",
              "      <th>0</th>\n",
              "      <td>Absolutely love this watch! Get compliments al...</td>\n",
              "      <td>1</td>\n",
              "    </tr>\n",
              "    <tr>\n",
              "      <th>1</th>\n",
              "      <td>I love this watch it keeps time wonderfully.</td>\n",
              "      <td>0</td>\n",
              "    </tr>\n",
              "    <tr>\n",
              "      <th>2</th>\n",
              "      <td>Scratches</td>\n",
              "      <td>1</td>\n",
              "    </tr>\n",
              "    <tr>\n",
              "      <th>3</th>\n",
              "      <td>It works well on me. However, I found cheaper ...</td>\n",
              "      <td>1</td>\n",
              "    </tr>\n",
              "    <tr>\n",
              "      <th>4</th>\n",
              "      <td>Beautiful watch face.  The band looks nice all...</td>\n",
              "      <td>1</td>\n",
              "    </tr>\n",
              "    <tr>\n",
              "      <th>5</th>\n",
              "      <td>i love this watch for my purpose, about the pe...</td>\n",
              "      <td>1</td>\n",
              "    </tr>\n",
              "    <tr>\n",
              "      <th>6</th>\n",
              "      <td>for my wife and she loved it, looks great and ...</td>\n",
              "      <td>3</td>\n",
              "    </tr>\n",
              "    <tr>\n",
              "      <th>7</th>\n",
              "      <td>I was about to buy this thinking it was a Swis...</td>\n",
              "      <td>1</td>\n",
              "    </tr>\n",
              "    <tr>\n",
              "      <th>8</th>\n",
              "      <td>Watch is perfect. Rugged with the metal &amp;#34;B...</td>\n",
              "      <td>3</td>\n",
              "    </tr>\n",
              "    <tr>\n",
              "      <th>9</th>\n",
              "      <td>Great quality and build.&lt;br /&gt;The motors are r...</td>\n",
              "      <td>3</td>\n",
              "    </tr>\n",
              "  </tbody>\n",
              "</table>\n",
              "</div>"
            ],
            "text/plain": [
              "                                              review  cluster\n",
              "0  Absolutely love this watch! Get compliments al...        1\n",
              "1       I love this watch it keeps time wonderfully.        0\n",
              "2                                          Scratches        1\n",
              "3  It works well on me. However, I found cheaper ...        1\n",
              "4  Beautiful watch face.  The band looks nice all...        1\n",
              "5  i love this watch for my purpose, about the pe...        1\n",
              "6  for my wife and she loved it, looks great and ...        3\n",
              "7  I was about to buy this thinking it was a Swis...        1\n",
              "8  Watch is perfect. Rugged with the metal &#34;B...        3\n",
              "9  Great quality and build.<br />The motors are r...        3"
            ]
          },
          "metadata": {
            "tags": []
          },
          "execution_count": 25
        }
      ]
    },
    {
      "cell_type": "code",
      "metadata": {
        "id": "Ht1SbbOSE8VE",
        "colab": {
          "base_uri": "https://localhost:8080/",
          "height": 220
        },
        "outputId": "a16f52bf-dfd4-4c17-a1c3-128c055b8262"
      },
      "source": [
        "print (\"Number of reviews included in each cluster:\")\n",
        "frame['cluster'].value_counts().to_frame()"
      ],
      "execution_count": null,
      "outputs": [
        {
          "output_type": "stream",
          "text": [
            "Number of reviews included in each cluster:\n"
          ],
          "name": "stdout"
        },
        {
          "output_type": "execute_result",
          "data": {
            "text/html": [
              "<div>\n",
              "<style scoped>\n",
              "    .dataframe tbody tr th:only-of-type {\n",
              "        vertical-align: middle;\n",
              "    }\n",
              "\n",
              "    .dataframe tbody tr th {\n",
              "        vertical-align: top;\n",
              "    }\n",
              "\n",
              "    .dataframe thead th {\n",
              "        text-align: right;\n",
              "    }\n",
              "</style>\n",
              "<table border=\"1\" class=\"dataframe\">\n",
              "  <thead>\n",
              "    <tr style=\"text-align: right;\">\n",
              "      <th></th>\n",
              "      <th>cluster</th>\n",
              "    </tr>\n",
              "  </thead>\n",
              "  <tbody>\n",
              "    <tr>\n",
              "      <th>1</th>\n",
              "      <td>266629</td>\n",
              "    </tr>\n",
              "    <tr>\n",
              "      <th>3</th>\n",
              "      <td>41453</td>\n",
              "    </tr>\n",
              "    <tr>\n",
              "      <th>4</th>\n",
              "      <td>34206</td>\n",
              "    </tr>\n",
              "    <tr>\n",
              "      <th>0</th>\n",
              "      <td>31075</td>\n",
              "    </tr>\n",
              "    <tr>\n",
              "      <th>2</th>\n",
              "      <td>26639</td>\n",
              "    </tr>\n",
              "  </tbody>\n",
              "</table>\n",
              "</div>"
            ],
            "text/plain": [
              "   cluster\n",
              "1   266629\n",
              "3    41453\n",
              "4    34206\n",
              "0    31075\n",
              "2    26639"
            ]
          },
          "metadata": {
            "tags": []
          },
          "execution_count": 26
        }
      ]
    },
    {
      "cell_type": "code",
      "metadata": {
        "id": "phDfUdh5qL9G",
        "colab": {
          "base_uri": "https://localhost:8080/"
        },
        "outputId": "41267ce9-4109-4dae-f1d6-98901ab48218"
      },
      "source": [
        "km.cluster_centers_\n",
        "\n",
        "# 239数的list -> cluster 0的中心点的tf-idf值\n",
        "#-> assumption: 中心点的值可以代表这个cluster\n",
        "#-> tf-idf值越大，对应的词越能代表这个document\n",
        "#-> 选出了tf-idf最大的6个值对应的词来代表这个cluster"
      ],
      "execution_count": null,
      "outputs": [
        {
          "output_type": "execute_result",
          "data": {
            "text/plain": [
              "array([[0.00056609, 0.0166695 , 0.00057423, ..., 0.00178175, 0.00407686,\n",
              "        0.00604503],\n",
              "       [0.00456926, 0.00728066, 0.00679901, ..., 0.00934325, 0.02342758,\n",
              "        0.01781092],\n",
              "       [0.00044888, 0.00103826, 0.00254973, ..., 0.00421343, 0.00876541,\n",
              "        0.00242157],\n",
              "       [0.00098834, 0.00436875, 0.00373491, ..., 0.00400723, 0.0098775 ,\n",
              "        0.0088626 ],\n",
              "       [0.00040478, 0.00025395, 0.00191732, ..., 0.00253423, 0.00386537,\n",
              "        0.00219547]])"
            ]
          },
          "metadata": {
            "tags": []
          },
          "execution_count": 27
        }
      ]
    },
    {
      "cell_type": "code",
      "metadata": {
        "id": "vrTpBeYFuIn5",
        "colab": {
          "base_uri": "https://localhost:8080/"
        },
        "outputId": "0a59f51c-03c6-4c63-9e27-6ba77f628158"
      },
      "source": [
        "km.cluster_centers_.shape"
      ],
      "execution_count": null,
      "outputs": [
        {
          "output_type": "execute_result",
          "data": {
            "text/plain": [
              "(5, 218)"
            ]
          },
          "metadata": {
            "tags": []
          },
          "execution_count": 28
        }
      ]
    },
    {
      "cell_type": "code",
      "metadata": {
        "id": "tQg0CF11chKK",
        "colab": {
          "base_uri": "https://localhost:8080/"
        },
        "outputId": "7c7b0b45-3e89-4311-8b95-dd1375032ea2"
      },
      "source": [
        "print (\"<Document clustering result by K-means>\")\n",
        "\n",
        "#km.cluster_centers_ denotes the importances of each items in centroid.\n",
        "#We need to sort it in decreasing-order and get the top k items.\n",
        "order_centroids = km.cluster_centers_.argsort()[:, ::-1] \n",
        "\n",
        "Cluster_keywords_summary = {}\n",
        "for i in range(num_clusters):\n",
        "    print (\"Cluster \" + str(i) + \" words:\", end='')\n",
        "    Cluster_keywords_summary[i] = []\n",
        "    for ind in order_centroids[i, :5]: #replace 6 with n words per cluster\n",
        "        Cluster_keywords_summary[i].append(tf_selected_words[ind])\n",
        "        print (tf_selected_words[ind] + \",\", end='')\n",
        "    print ()\n",
        "    \n",
        "    cluster_reviews = frame[frame.cluster==i].review.tolist()\n",
        "    print (\"Cluster \" + str(i) + \" reviews (\" + str(len(cluster_reviews)) + \" reviews): \")\n",
        "    print (\", \".join(cluster_reviews))\n",
        "    print ()"
      ],
      "execution_count": null,
      "outputs": [
        {
          "output_type": "stream",
          "text": [
            "IOPub data rate exceeded.\n",
            "The notebook server will temporarily stop sending output\n",
            "to the client in order to avoid crashing it.\n",
            "To change this limit, set the config variable\n",
            "`--NotebookApp.iopub_data_rate_limit`.\n",
            "\n",
            "Current values:\n",
            "NotebookApp.iopub_data_rate_limit=1000000.0 (bytes/sec)\n",
            "NotebookApp.rate_limit_window=3.0 (secs)\n",
            "\n"
          ],
          "name": "stderr"
        }
      ]
    },
    {
      "cell_type": "code",
      "metadata": {
        "colab": {
          "base_uri": "https://localhost:8080/",
          "height": 401
        },
        "id": "uyb0gCssuigc",
        "outputId": "7d87a9d5-a2c2-4372-8131-f75c2c4a07b1"
      },
      "source": [
        "%config\n",
        "--NotebookApp.iopub_data_rate_limit"
      ],
      "execution_count": null,
      "outputs": [
        {
          "output_type": "stream",
          "text": [
            "Available objects for config:\n",
            "     Shell\n",
            "     ColabHistoryManager\n",
            "     PrefilterManager\n",
            "     IPCompleter\n",
            "     DisplayFormatter\n",
            "     MagicsManager\n",
            "     ScriptMagics\n",
            "     AliasManager\n",
            "     IPKernelApp\n",
            "     InlineBackend\n",
            "     StoreMagics\n",
            "     StoreMagics\n"
          ],
          "name": "stdout"
        },
        {
          "output_type": "error",
          "ename": "NameError",
          "evalue": "ignored",
          "traceback": [
            "\u001b[0;31m---------------------------------------------------------------------------\u001b[0m",
            "\u001b[0;31mNameError\u001b[0m                                 Traceback (most recent call last)",
            "\u001b[0;32m<ipython-input-32-8a927e533c6e>\u001b[0m in \u001b[0;36m<module>\u001b[0;34m()\u001b[0m\n\u001b[1;32m      1\u001b[0m \u001b[0mget_ipython\u001b[0m\u001b[0;34m(\u001b[0m\u001b[0;34m)\u001b[0m\u001b[0;34m.\u001b[0m\u001b[0mmagic\u001b[0m\u001b[0;34m(\u001b[0m\u001b[0;34m'config'\u001b[0m\u001b[0;34m)\u001b[0m\u001b[0;34m\u001b[0m\u001b[0;34m\u001b[0m\u001b[0m\n\u001b[0;32m----> 2\u001b[0;31m \u001b[0;34m-\u001b[0m\u001b[0;34m-\u001b[0m\u001b[0mNotebookApp\u001b[0m\u001b[0;34m.\u001b[0m\u001b[0miopub_data_rate_limit\u001b[0m\u001b[0;34m\u001b[0m\u001b[0;34m\u001b[0m\u001b[0m\n\u001b[0m",
            "\u001b[0;31mNameError\u001b[0m: name 'NotebookApp' is not defined"
          ]
        }
      ]
    },
    {
      "cell_type": "markdown",
      "metadata": {
        "id": "oYOZXL53E8VV"
      },
      "source": [
        "# Part 5: Topic Modeling - Latent Dirichlet Allocation"
      ]
    },
    {
      "cell_type": "code",
      "metadata": {
        "id": "lBPVbFNFE8VW"
      },
      "source": [
        "# Use LDA for clustering\n",
        "from sklearn.decomposition import LatentDirichletAllocation\n",
        "lda = LatentDirichletAllocation(n_components=5)"
      ],
      "execution_count": null,
      "outputs": []
    },
    {
      "cell_type": "code",
      "metadata": {
        "id": "9PU80SW391II",
        "colab": {
          "base_uri": "https://localhost:8080/"
        },
        "outputId": "5777b465-2b4b-4e8c-b0ff-fbae9aeacada"
      },
      "source": [
        "# document topic matrix for tfidf_matrix_lda\n",
        "lda_output = lda.fit_transform(tfidf_matrix)\n",
        "print(lda_output.shape)\n",
        "print(lda_output)"
      ],
      "execution_count": null,
      "outputs": [
        {
          "output_type": "stream",
          "text": [
            "(400002, 5)\n",
            "[[0.31053225 0.05803039 0.51442885 0.05929335 0.05771516]\n",
            " [0.07620186 0.07593558 0.48526387 0.28499111 0.07760758]\n",
            " [0.10000003 0.10078978 0.10000003 0.5992101  0.10000005]\n",
            " ...\n",
            " [0.04609353 0.04712218 0.04668799 0.81406335 0.04603295]\n",
            " [0.07549316 0.07627932 0.07456301 0.50124145 0.27242307]\n",
            " [0.03094715 0.03136021 0.03070797 0.87564428 0.03134038]]\n"
          ],
          "name": "stdout"
        }
      ]
    },
    {
      "cell_type": "code",
      "metadata": {
        "scrolled": true,
        "id": "hCJs3lBz90vY",
        "colab": {
          "base_uri": "https://localhost:8080/"
        },
        "outputId": "f7ce93bb-27f6-4736-a186-f47d225a4849"
      },
      "source": [
        "# topics and words matrix\n",
        "topic_word = lda.components_\n",
        "print(topic_word.shape)\n",
        "print(topic_word)"
      ],
      "execution_count": null,
      "outputs": [
        {
          "output_type": "stream",
          "text": [
            "(5, 239)\n",
            "[[ 0.45702595  1.20639616  2.70011872 ...  3.42921873 11.98291702\n",
            "  10.59045232]\n",
            " [ 1.11878558  0.20171755  0.20206997 ...  0.20064438  0.20157287\n",
            "   0.25692955]\n",
            " [ 0.20018766  6.58079413  0.20019734 ...  2.49904592  0.20111408\n",
            "   0.20018412]\n",
            " [ 3.03009066  0.20066258  0.20478698 ...  0.20425652  3.24232094\n",
            "   0.25208876]\n",
            " [ 0.20061381  0.20004266  0.20023367 ...  0.55156965  0.20357684\n",
            "   1.04003836]]\n"
          ],
          "name": "stdout"
        }
      ]
    },
    {
      "cell_type": "code",
      "metadata": {
        "id": "xCEVfJS5AEgx",
        "colab": {
          "base_uri": "https://localhost:8080/",
          "height": 358
        },
        "outputId": "44f0a368-d205-4106-bd9a-ce6d13ba176f"
      },
      "source": [
        "# column names\n",
        "topic_names = [\"Topic\" + str(i) for i in range(lda.n_components)]\n",
        "\n",
        "# index names\n",
        "doc_names = [\"Doc\" + str(i) for i in range(len(data))]\n",
        "\n",
        "df_document_topic = pd.DataFrame(np.round(lda_output, 2), columns=topic_names, index=doc_names)\n",
        "\n",
        "# get dominant topic for each document\n",
        "topic = np.argmax(df_document_topic.values, axis=1)\n",
        "df_document_topic['topic'] = topic\n",
        "\n",
        "df_document_topic.head(10)"
      ],
      "execution_count": null,
      "outputs": [
        {
          "output_type": "execute_result",
          "data": {
            "text/html": [
              "<div>\n",
              "<style scoped>\n",
              "    .dataframe tbody tr th:only-of-type {\n",
              "        vertical-align: middle;\n",
              "    }\n",
              "\n",
              "    .dataframe tbody tr th {\n",
              "        vertical-align: top;\n",
              "    }\n",
              "\n",
              "    .dataframe thead th {\n",
              "        text-align: right;\n",
              "    }\n",
              "</style>\n",
              "<table border=\"1\" class=\"dataframe\">\n",
              "  <thead>\n",
              "    <tr style=\"text-align: right;\">\n",
              "      <th></th>\n",
              "      <th>Topic0</th>\n",
              "      <th>Topic1</th>\n",
              "      <th>Topic2</th>\n",
              "      <th>Topic3</th>\n",
              "      <th>Topic4</th>\n",
              "      <th>topic</th>\n",
              "    </tr>\n",
              "  </thead>\n",
              "  <tbody>\n",
              "    <tr>\n",
              "      <th>Doc0</th>\n",
              "      <td>0.31</td>\n",
              "      <td>0.06</td>\n",
              "      <td>0.51</td>\n",
              "      <td>0.06</td>\n",
              "      <td>0.06</td>\n",
              "      <td>2</td>\n",
              "    </tr>\n",
              "    <tr>\n",
              "      <th>Doc1</th>\n",
              "      <td>0.08</td>\n",
              "      <td>0.08</td>\n",
              "      <td>0.49</td>\n",
              "      <td>0.28</td>\n",
              "      <td>0.08</td>\n",
              "      <td>2</td>\n",
              "    </tr>\n",
              "    <tr>\n",
              "      <th>Doc2</th>\n",
              "      <td>0.10</td>\n",
              "      <td>0.10</td>\n",
              "      <td>0.10</td>\n",
              "      <td>0.60</td>\n",
              "      <td>0.10</td>\n",
              "      <td>3</td>\n",
              "    </tr>\n",
              "    <tr>\n",
              "      <th>Doc3</th>\n",
              "      <td>0.06</td>\n",
              "      <td>0.06</td>\n",
              "      <td>0.06</td>\n",
              "      <td>0.74</td>\n",
              "      <td>0.07</td>\n",
              "      <td>3</td>\n",
              "    </tr>\n",
              "    <tr>\n",
              "      <th>Doc4</th>\n",
              "      <td>0.04</td>\n",
              "      <td>0.35</td>\n",
              "      <td>0.04</td>\n",
              "      <td>0.53</td>\n",
              "      <td>0.04</td>\n",
              "      <td>3</td>\n",
              "    </tr>\n",
              "    <tr>\n",
              "      <th>Doc5</th>\n",
              "      <td>0.71</td>\n",
              "      <td>0.07</td>\n",
              "      <td>0.07</td>\n",
              "      <td>0.07</td>\n",
              "      <td>0.07</td>\n",
              "      <td>0</td>\n",
              "    </tr>\n",
              "    <tr>\n",
              "      <th>Doc6</th>\n",
              "      <td>0.42</td>\n",
              "      <td>0.06</td>\n",
              "      <td>0.07</td>\n",
              "      <td>0.06</td>\n",
              "      <td>0.38</td>\n",
              "      <td>0</td>\n",
              "    </tr>\n",
              "    <tr>\n",
              "      <th>Doc7</th>\n",
              "      <td>0.40</td>\n",
              "      <td>0.06</td>\n",
              "      <td>0.06</td>\n",
              "      <td>0.42</td>\n",
              "      <td>0.06</td>\n",
              "      <td>3</td>\n",
              "    </tr>\n",
              "    <tr>\n",
              "      <th>Doc8</th>\n",
              "      <td>0.05</td>\n",
              "      <td>0.05</td>\n",
              "      <td>0.05</td>\n",
              "      <td>0.81</td>\n",
              "      <td>0.05</td>\n",
              "      <td>3</td>\n",
              "    </tr>\n",
              "    <tr>\n",
              "      <th>Doc9</th>\n",
              "      <td>0.40</td>\n",
              "      <td>0.06</td>\n",
              "      <td>0.06</td>\n",
              "      <td>0.43</td>\n",
              "      <td>0.06</td>\n",
              "      <td>3</td>\n",
              "    </tr>\n",
              "  </tbody>\n",
              "</table>\n",
              "</div>"
            ],
            "text/plain": [
              "      Topic0  Topic1  Topic2  Topic3  Topic4  topic\n",
              "Doc0    0.31    0.06    0.51    0.06    0.06      2\n",
              "Doc1    0.08    0.08    0.49    0.28    0.08      2\n",
              "Doc2    0.10    0.10    0.10    0.60    0.10      3\n",
              "Doc3    0.06    0.06    0.06    0.74    0.07      3\n",
              "Doc4    0.04    0.35    0.04    0.53    0.04      3\n",
              "Doc5    0.71    0.07    0.07    0.07    0.07      0\n",
              "Doc6    0.42    0.06    0.07    0.06    0.38      0\n",
              "Doc7    0.40    0.06    0.06    0.42    0.06      3\n",
              "Doc8    0.05    0.05    0.05    0.81    0.05      3\n",
              "Doc9    0.40    0.06    0.06    0.43    0.06      3"
            ]
          },
          "metadata": {
            "tags": []
          },
          "execution_count": 35
        }
      ]
    },
    {
      "cell_type": "code",
      "metadata": {
        "id": "InPLDW7kBSOc",
        "colab": {
          "base_uri": "https://localhost:8080/",
          "height": 203
        },
        "outputId": "bdb980a9-4a8a-4f61-c4ca-a9b33de8e2ca"
      },
      "source": [
        "df_document_topic['topic'].value_counts().to_frame()"
      ],
      "execution_count": null,
      "outputs": [
        {
          "output_type": "execute_result",
          "data": {
            "text/html": [
              "<div>\n",
              "<style scoped>\n",
              "    .dataframe tbody tr th:only-of-type {\n",
              "        vertical-align: middle;\n",
              "    }\n",
              "\n",
              "    .dataframe tbody tr th {\n",
              "        vertical-align: top;\n",
              "    }\n",
              "\n",
              "    .dataframe thead th {\n",
              "        text-align: right;\n",
              "    }\n",
              "</style>\n",
              "<table border=\"1\" class=\"dataframe\">\n",
              "  <thead>\n",
              "    <tr style=\"text-align: right;\">\n",
              "      <th></th>\n",
              "      <th>topic</th>\n",
              "    </tr>\n",
              "  </thead>\n",
              "  <tbody>\n",
              "    <tr>\n",
              "      <th>3</th>\n",
              "      <td>138372</td>\n",
              "    </tr>\n",
              "    <tr>\n",
              "      <th>1</th>\n",
              "      <td>81847</td>\n",
              "    </tr>\n",
              "    <tr>\n",
              "      <th>0</th>\n",
              "      <td>66729</td>\n",
              "    </tr>\n",
              "    <tr>\n",
              "      <th>2</th>\n",
              "      <td>57730</td>\n",
              "    </tr>\n",
              "    <tr>\n",
              "      <th>4</th>\n",
              "      <td>55324</td>\n",
              "    </tr>\n",
              "  </tbody>\n",
              "</table>\n",
              "</div>"
            ],
            "text/plain": [
              "    topic\n",
              "3  138372\n",
              "1   81847\n",
              "0   66729\n",
              "2   57730\n",
              "4   55324"
            ]
          },
          "metadata": {
            "tags": []
          },
          "execution_count": 36
        }
      ]
    },
    {
      "cell_type": "code",
      "metadata": {
        "id": "_yLe_RFHCz0a",
        "colab": {
          "base_uri": "https://localhost:8080/",
          "height": 422
        },
        "outputId": "40e4f6a8-bc65-4c2b-b1b3-d81097a91ca5"
      },
      "source": [
        "# topic word matrix\n",
        "print(lda.components_)\n",
        "# topic-word matrix\n",
        "df_topic_words = pd.DataFrame(lda.components_)\n",
        "\n",
        "# column and index\n",
        "df_topic_words.columns = tfidf_model.get_feature_names()\n",
        "df_topic_words.index = topic_names\n",
        "\n",
        "df_topic_words.head()"
      ],
      "execution_count": null,
      "outputs": [
        {
          "output_type": "stream",
          "text": [
            "[[3.54024852e-01 5.08821623e+02 7.78291368e-01 ... 4.88366978e+02\n",
            "  2.00758484e+02 2.57657562e+02]\n",
            " [5.92213998e+01 2.37905248e+00 4.29510396e+02 ... 1.58508633e+03\n",
            "  4.44095248e+03 2.31894708e+01]\n",
            " [2.01168241e-01 1.91898333e+03 2.01398986e-01 ... 2.01613725e-01\n",
            "  2.04495853e-01 8.61247422e+02]\n",
            " [1.24370851e+03 2.47309519e+02 1.47411338e+03 ... 8.38743443e+02\n",
            "  2.50726406e+03 4.29718390e+03]\n",
            " [2.02352940e-01 2.00860431e-01 2.15409411e+02 ... 2.05423172e-01\n",
            "  2.00889947e-01 5.57362614e+00]]\n"
          ],
          "name": "stdout"
        },
        {
          "output_type": "execute_result",
          "data": {
            "text/html": [
              "<div>\n",
              "<style scoped>\n",
              "    .dataframe tbody tr th:only-of-type {\n",
              "        vertical-align: middle;\n",
              "    }\n",
              "\n",
              "    .dataframe tbody tr th {\n",
              "        vertical-align: top;\n",
              "    }\n",
              "\n",
              "    .dataframe thead th {\n",
              "        text-align: right;\n",
              "    }\n",
              "</style>\n",
              "<table border=\"1\" class=\"dataframe\">\n",
              "  <thead>\n",
              "    <tr style=\"text-align: right;\">\n",
              "      <th></th>\n",
              "      <th>abl</th>\n",
              "      <th>absolut</th>\n",
              "      <th>accur</th>\n",
              "      <th>actual</th>\n",
              "      <th>adjust</th>\n",
              "      <th>alarm</th>\n",
              "      <th>alreadi</th>\n",
              "      <th>alway</th>\n",
              "      <th>amaz</th>\n",
              "      <th>amazon</th>\n",
              "      <th>anoth</th>\n",
              "      <th>appear</th>\n",
              "      <th>arriv</th>\n",
              "      <th>awesom</th>\n",
              "      <th>bad</th>\n",
              "      <th>band</th>\n",
              "      <th>batteri</th>\n",
              "      <th>beauti</th>\n",
              "      <th>best</th>\n",
              "      <th>better</th>\n",
              "      <th>big</th>\n",
              "      <th>bit</th>\n",
              "      <th>black</th>\n",
              "      <th>blue</th>\n",
              "      <th>bought</th>\n",
              "      <th>box</th>\n",
              "      <th>bracelet</th>\n",
              "      <th>brand</th>\n",
              "      <th>broke</th>\n",
              "      <th>button</th>\n",
              "      <th>buy</th>\n",
              "      <th>ca</th>\n",
              "      <th>came</th>\n",
              "      <th>case</th>\n",
              "      <th>casio</th>\n",
              "      <th>casual</th>\n",
              "      <th>chang</th>\n",
              "      <th>cheap</th>\n",
              "      <th>christma</th>\n",
              "      <th>clasp</th>\n",
              "      <th>...</th>\n",
              "      <th>small</th>\n",
              "      <th>smaller</th>\n",
              "      <th>solid</th>\n",
              "      <th>someth</th>\n",
              "      <th>son</th>\n",
              "      <th>star</th>\n",
              "      <th>start</th>\n",
              "      <th>stop</th>\n",
              "      <th>strap</th>\n",
              "      <th>style</th>\n",
              "      <th>stylish</th>\n",
              "      <th>super</th>\n",
              "      <th>sure</th>\n",
              "      <th>tell</th>\n",
              "      <th>thank</th>\n",
              "      <th>thing</th>\n",
              "      <th>think</th>\n",
              "      <th>thought</th>\n",
              "      <th>time</th>\n",
              "      <th>timex</th>\n",
              "      <th>took</th>\n",
              "      <th>tri</th>\n",
              "      <th>turn</th>\n",
              "      <th>use</th>\n",
              "      <th>valu</th>\n",
              "      <th>want</th>\n",
              "      <th>watch</th>\n",
              "      <th>water</th>\n",
              "      <th>way</th>\n",
              "      <th>wear</th>\n",
              "      <th>week</th>\n",
              "      <th>weight</th>\n",
              "      <th>white</th>\n",
              "      <th>wife</th>\n",
              "      <th>wish</th>\n",
              "      <th>work</th>\n",
              "      <th>worn</th>\n",
              "      <th>worth</th>\n",
              "      <th>wrist</th>\n",
              "      <th>year</th>\n",
              "    </tr>\n",
              "  </thead>\n",
              "  <tbody>\n",
              "    <tr>\n",
              "      <th>Topic0</th>\n",
              "      <td>0.354025</td>\n",
              "      <td>508.821623</td>\n",
              "      <td>0.778291</td>\n",
              "      <td>42.564667</td>\n",
              "      <td>0.354869</td>\n",
              "      <td>0.200415</td>\n",
              "      <td>28.238904</td>\n",
              "      <td>860.909373</td>\n",
              "      <td>2816.321235</td>\n",
              "      <td>1340.881861</td>\n",
              "      <td>971.232800</td>\n",
              "      <td>32.003770</td>\n",
              "      <td>485.184671</td>\n",
              "      <td>97.754218</td>\n",
              "      <td>0.213680</td>\n",
              "      <td>546.531974</td>\n",
              "      <td>0.205335</td>\n",
              "      <td>1312.346544</td>\n",
              "      <td>2744.387512</td>\n",
              "      <td>298.605721</td>\n",
              "      <td>2174.479585</td>\n",
              "      <td>77.203260</td>\n",
              "      <td>116.332761</td>\n",
              "      <td>328.923168</td>\n",
              "      <td>1340.940141</td>\n",
              "      <td>340.831127</td>\n",
              "      <td>0.201916</td>\n",
              "      <td>774.775875</td>\n",
              "      <td>958.044988</td>\n",
              "      <td>0.200485</td>\n",
              "      <td>3433.965668</td>\n",
              "      <td>257.715802</td>\n",
              "      <td>669.060035</td>\n",
              "      <td>92.680322</td>\n",
              "      <td>33.233535</td>\n",
              "      <td>3.009273</td>\n",
              "      <td>1.709597</td>\n",
              "      <td>12.897694</td>\n",
              "      <td>0.239147</td>\n",
              "      <td>0.438932</td>\n",
              "      <td>...</td>\n",
              "      <td>10.683598</td>\n",
              "      <td>0.543566</td>\n",
              "      <td>2.908864</td>\n",
              "      <td>89.792383</td>\n",
              "      <td>0.201225</td>\n",
              "      <td>70.639410</td>\n",
              "      <td>0.202839</td>\n",
              "      <td>0.201250</td>\n",
              "      <td>1214.998218</td>\n",
              "      <td>767.670069</td>\n",
              "      <td>0.202101</td>\n",
              "      <td>464.263604</td>\n",
              "      <td>89.744209</td>\n",
              "      <td>2.184313</td>\n",
              "      <td>5027.006491</td>\n",
              "      <td>215.528042</td>\n",
              "      <td>285.822564</td>\n",
              "      <td>137.596189</td>\n",
              "      <td>906.130350</td>\n",
              "      <td>520.569755</td>\n",
              "      <td>83.333167</td>\n",
              "      <td>14.175214</td>\n",
              "      <td>0.219063</td>\n",
              "      <td>210.479220</td>\n",
              "      <td>0.656925</td>\n",
              "      <td>1658.815811</td>\n",
              "      <td>5607.224571</td>\n",
              "      <td>0.204287</td>\n",
              "      <td>545.754837</td>\n",
              "      <td>961.722180</td>\n",
              "      <td>118.104508</td>\n",
              "      <td>0.235106</td>\n",
              "      <td>15.571317</td>\n",
              "      <td>3278.114871</td>\n",
              "      <td>62.433593</td>\n",
              "      <td>77.807801</td>\n",
              "      <td>0.939341</td>\n",
              "      <td>488.366978</td>\n",
              "      <td>200.758484</td>\n",
              "      <td>257.657562</td>\n",
              "    </tr>\n",
              "    <tr>\n",
              "      <th>Topic1</th>\n",
              "      <td>59.221400</td>\n",
              "      <td>2.379052</td>\n",
              "      <td>429.510396</td>\n",
              "      <td>251.048151</td>\n",
              "      <td>917.676518</td>\n",
              "      <td>0.200747</td>\n",
              "      <td>12.285132</td>\n",
              "      <td>18.200940</td>\n",
              "      <td>0.203569</td>\n",
              "      <td>1.500797</td>\n",
              "      <td>8.700571</td>\n",
              "      <td>562.918295</td>\n",
              "      <td>1.757811</td>\n",
              "      <td>0.350459</td>\n",
              "      <td>0.440123</td>\n",
              "      <td>3179.111541</td>\n",
              "      <td>0.202642</td>\n",
              "      <td>1291.580578</td>\n",
              "      <td>0.587093</td>\n",
              "      <td>798.388139</td>\n",
              "      <td>2595.711464</td>\n",
              "      <td>1419.227201</td>\n",
              "      <td>186.730196</td>\n",
              "      <td>219.853804</td>\n",
              "      <td>207.866310</td>\n",
              "      <td>3.875372</td>\n",
              "      <td>927.846485</td>\n",
              "      <td>71.521775</td>\n",
              "      <td>0.200422</td>\n",
              "      <td>0.211320</td>\n",
              "      <td>458.940238</td>\n",
              "      <td>354.575753</td>\n",
              "      <td>10.916087</td>\n",
              "      <td>329.555150</td>\n",
              "      <td>7.403998</td>\n",
              "      <td>1371.721862</td>\n",
              "      <td>0.842820</td>\n",
              "      <td>876.163440</td>\n",
              "      <td>0.201056</td>\n",
              "      <td>264.514218</td>\n",
              "      <td>...</td>\n",
              "      <td>3597.289082</td>\n",
              "      <td>1387.407647</td>\n",
              "      <td>1058.063667</td>\n",
              "      <td>164.300636</td>\n",
              "      <td>0.268094</td>\n",
              "      <td>90.422734</td>\n",
              "      <td>0.237071</td>\n",
              "      <td>0.200492</td>\n",
              "      <td>663.817190</td>\n",
              "      <td>729.731893</td>\n",
              "      <td>1946.570003</td>\n",
              "      <td>118.550468</td>\n",
              "      <td>187.066265</td>\n",
              "      <td>68.202910</td>\n",
              "      <td>0.200617</td>\n",
              "      <td>207.627503</td>\n",
              "      <td>478.699126</td>\n",
              "      <td>438.851874</td>\n",
              "      <td>1323.996685</td>\n",
              "      <td>44.424816</td>\n",
              "      <td>53.548190</td>\n",
              "      <td>3.347130</td>\n",
              "      <td>0.323960</td>\n",
              "      <td>722.942334</td>\n",
              "      <td>2200.538853</td>\n",
              "      <td>860.463605</td>\n",
              "      <td>8985.680373</td>\n",
              "      <td>222.060255</td>\n",
              "      <td>722.945523</td>\n",
              "      <td>2474.123747</td>\n",
              "      <td>15.908260</td>\n",
              "      <td>1501.696051</td>\n",
              "      <td>23.669258</td>\n",
              "      <td>0.204461</td>\n",
              "      <td>228.589277</td>\n",
              "      <td>434.034971</td>\n",
              "      <td>298.189205</td>\n",
              "      <td>1585.086329</td>\n",
              "      <td>4440.952476</td>\n",
              "      <td>23.189471</td>\n",
              "    </tr>\n",
              "    <tr>\n",
              "      <th>Topic2</th>\n",
              "      <td>0.201168</td>\n",
              "      <td>1918.983328</td>\n",
              "      <td>0.201399</td>\n",
              "      <td>16.741047</td>\n",
              "      <td>0.200770</td>\n",
              "      <td>0.200653</td>\n",
              "      <td>8.395068</td>\n",
              "      <td>0.201511</td>\n",
              "      <td>0.200765</td>\n",
              "      <td>0.201778</td>\n",
              "      <td>8.782725</td>\n",
              "      <td>0.265549</td>\n",
              "      <td>190.768671</td>\n",
              "      <td>4348.359525</td>\n",
              "      <td>0.200830</td>\n",
              "      <td>0.261494</td>\n",
              "      <td>0.201208</td>\n",
              "      <td>7961.770990</td>\n",
              "      <td>0.201004</td>\n",
              "      <td>1188.222423</td>\n",
              "      <td>1.295146</td>\n",
              "      <td>0.201100</td>\n",
              "      <td>0.201652</td>\n",
              "      <td>0.201792</td>\n",
              "      <td>2963.646357</td>\n",
              "      <td>1.321401</td>\n",
              "      <td>0.201107</td>\n",
              "      <td>0.206735</td>\n",
              "      <td>0.200736</td>\n",
              "      <td>0.200409</td>\n",
              "      <td>3.860370</td>\n",
              "      <td>0.749676</td>\n",
              "      <td>4.356841</td>\n",
              "      <td>0.201765</td>\n",
              "      <td>0.200967</td>\n",
              "      <td>0.201240</td>\n",
              "      <td>0.200746</td>\n",
              "      <td>0.201071</td>\n",
              "      <td>2222.663375</td>\n",
              "      <td>0.200795</td>\n",
              "      <td>...</td>\n",
              "      <td>0.201112</td>\n",
              "      <td>0.450121</td>\n",
              "      <td>0.200948</td>\n",
              "      <td>0.202586</td>\n",
              "      <td>3236.229321</td>\n",
              "      <td>1.330917</td>\n",
              "      <td>0.200830</td>\n",
              "      <td>0.200677</td>\n",
              "      <td>0.200930</td>\n",
              "      <td>55.496748</td>\n",
              "      <td>1.923828</td>\n",
              "      <td>0.201994</td>\n",
              "      <td>118.243629</td>\n",
              "      <td>0.248967</td>\n",
              "      <td>0.307877</td>\n",
              "      <td>0.202126</td>\n",
              "      <td>97.843208</td>\n",
              "      <td>0.986968</td>\n",
              "      <td>508.726065</td>\n",
              "      <td>0.200888</td>\n",
              "      <td>0.210915</td>\n",
              "      <td>0.200819</td>\n",
              "      <td>0.201104</td>\n",
              "      <td>0.499538</td>\n",
              "      <td>0.201175</td>\n",
              "      <td>2.490936</td>\n",
              "      <td>6809.228024</td>\n",
              "      <td>0.201090</td>\n",
              "      <td>2.520940</td>\n",
              "      <td>716.085143</td>\n",
              "      <td>0.201154</td>\n",
              "      <td>0.201099</td>\n",
              "      <td>0.201075</td>\n",
              "      <td>150.907876</td>\n",
              "      <td>0.201500</td>\n",
              "      <td>3.055003</td>\n",
              "      <td>0.203448</td>\n",
              "      <td>0.201614</td>\n",
              "      <td>0.204496</td>\n",
              "      <td>861.247422</td>\n",
              "    </tr>\n",
              "    <tr>\n",
              "      <th>Topic3</th>\n",
              "      <td>1243.708512</td>\n",
              "      <td>247.309519</td>\n",
              "      <td>1474.113382</td>\n",
              "      <td>1540.553785</td>\n",
              "      <td>1560.370006</td>\n",
              "      <td>1500.070926</td>\n",
              "      <td>1431.310249</td>\n",
              "      <td>926.665388</td>\n",
              "      <td>25.211665</td>\n",
              "      <td>1335.127507</td>\n",
              "      <td>1688.067926</td>\n",
              "      <td>876.725824</td>\n",
              "      <td>1290.254528</td>\n",
              "      <td>16.006493</td>\n",
              "      <td>1092.696818</td>\n",
              "      <td>8107.198720</td>\n",
              "      <td>4921.489135</td>\n",
              "      <td>1003.091240</td>\n",
              "      <td>476.728675</td>\n",
              "      <td>1677.182078</td>\n",
              "      <td>1450.388693</td>\n",
              "      <td>1634.800878</td>\n",
              "      <td>2152.357558</td>\n",
              "      <td>1085.771971</td>\n",
              "      <td>2694.008146</td>\n",
              "      <td>1587.447481</td>\n",
              "      <td>717.938040</td>\n",
              "      <td>714.171887</td>\n",
              "      <td>2214.578966</td>\n",
              "      <td>1742.023831</td>\n",
              "      <td>2451.308915</td>\n",
              "      <td>2079.648373</td>\n",
              "      <td>2056.209557</td>\n",
              "      <td>1845.597826</td>\n",
              "      <td>1636.584527</td>\n",
              "      <td>171.907046</td>\n",
              "      <td>2362.556417</td>\n",
              "      <td>1788.792655</td>\n",
              "      <td>3.850095</td>\n",
              "      <td>1351.770663</td>\n",
              "      <td>...</td>\n",
              "      <td>2010.814781</td>\n",
              "      <td>561.624786</td>\n",
              "      <td>439.284803</td>\n",
              "      <td>1407.507509</td>\n",
              "      <td>3.701727</td>\n",
              "      <td>2200.098326</td>\n",
              "      <td>1472.050801</td>\n",
              "      <td>2660.707623</td>\n",
              "      <td>2792.857657</td>\n",
              "      <td>835.736441</td>\n",
              "      <td>28.015696</td>\n",
              "      <td>493.143844</td>\n",
              "      <td>1479.232142</td>\n",
              "      <td>1915.300555</td>\n",
              "      <td>0.296341</td>\n",
              "      <td>2335.183379</td>\n",
              "      <td>1797.546855</td>\n",
              "      <td>1702.675746</td>\n",
              "      <td>9409.055806</td>\n",
              "      <td>1297.894814</td>\n",
              "      <td>1626.468701</td>\n",
              "      <td>1918.139265</td>\n",
              "      <td>1278.005717</td>\n",
              "      <td>5560.598567</td>\n",
              "      <td>119.106293</td>\n",
              "      <td>2092.913564</td>\n",
              "      <td>17161.875233</td>\n",
              "      <td>2090.848980</td>\n",
              "      <td>1681.683410</td>\n",
              "      <td>4261.412738</td>\n",
              "      <td>3274.878801</td>\n",
              "      <td>392.204560</td>\n",
              "      <td>1296.372896</td>\n",
              "      <td>8.693832</td>\n",
              "      <td>1502.186897</td>\n",
              "      <td>6645.462308</td>\n",
              "      <td>1244.221775</td>\n",
              "      <td>838.743443</td>\n",
              "      <td>2507.264064</td>\n",
              "      <td>4297.183904</td>\n",
              "    </tr>\n",
              "    <tr>\n",
              "      <th>Topic4</th>\n",
              "      <td>0.202353</td>\n",
              "      <td>0.200860</td>\n",
              "      <td>215.409411</td>\n",
              "      <td>0.205500</td>\n",
              "      <td>0.207076</td>\n",
              "      <td>0.200673</td>\n",
              "      <td>0.260732</td>\n",
              "      <td>0.200875</td>\n",
              "      <td>0.200556</td>\n",
              "      <td>0.204199</td>\n",
              "      <td>0.200882</td>\n",
              "      <td>0.201468</td>\n",
              "      <td>1532.314800</td>\n",
              "      <td>0.201385</td>\n",
              "      <td>1220.770780</td>\n",
              "      <td>54.130065</td>\n",
              "      <td>624.825183</td>\n",
              "      <td>0.289242</td>\n",
              "      <td>0.200734</td>\n",
              "      <td>0.426707</td>\n",
              "      <td>0.201464</td>\n",
              "      <td>0.204365</td>\n",
              "      <td>0.200892</td>\n",
              "      <td>0.200572</td>\n",
              "      <td>1.092467</td>\n",
              "      <td>725.164213</td>\n",
              "      <td>0.200811</td>\n",
              "      <td>1.969375</td>\n",
              "      <td>0.200691</td>\n",
              "      <td>0.200790</td>\n",
              "      <td>46.947263</td>\n",
              "      <td>297.551797</td>\n",
              "      <td>1042.013068</td>\n",
              "      <td>24.474303</td>\n",
              "      <td>0.364310</td>\n",
              "      <td>0.200812</td>\n",
              "      <td>8.731038</td>\n",
              "      <td>2156.571604</td>\n",
              "      <td>0.200591</td>\n",
              "      <td>0.200795</td>\n",
              "      <td>...</td>\n",
              "      <td>0.201521</td>\n",
              "      <td>0.200442</td>\n",
              "      <td>0.210576</td>\n",
              "      <td>0.201395</td>\n",
              "      <td>0.200643</td>\n",
              "      <td>1.595048</td>\n",
              "      <td>0.200616</td>\n",
              "      <td>0.200660</td>\n",
              "      <td>0.201346</td>\n",
              "      <td>0.215926</td>\n",
              "      <td>0.200665</td>\n",
              "      <td>815.392920</td>\n",
              "      <td>0.208319</td>\n",
              "      <td>0.203897</td>\n",
              "      <td>0.200841</td>\n",
              "      <td>1.010604</td>\n",
              "      <td>0.202021</td>\n",
              "      <td>0.206813</td>\n",
              "      <td>1500.594325</td>\n",
              "      <td>0.201024</td>\n",
              "      <td>0.557491</td>\n",
              "      <td>0.200789</td>\n",
              "      <td>0.200544</td>\n",
              "      <td>639.525770</td>\n",
              "      <td>0.204805</td>\n",
              "      <td>0.445677</td>\n",
              "      <td>10248.789017</td>\n",
              "      <td>0.210279</td>\n",
              "      <td>0.203697</td>\n",
              "      <td>12.321567</td>\n",
              "      <td>0.245052</td>\n",
              "      <td>0.200662</td>\n",
              "      <td>0.200557</td>\n",
              "      <td>0.200432</td>\n",
              "      <td>0.201943</td>\n",
              "      <td>5797.390820</td>\n",
              "      <td>0.200669</td>\n",
              "      <td>0.205423</td>\n",
              "      <td>0.200890</td>\n",
              "      <td>5.573626</td>\n",
              "    </tr>\n",
              "  </tbody>\n",
              "</table>\n",
              "<p>5 rows × 218 columns</p>\n",
              "</div>"
            ],
            "text/plain": [
              "                abl      absolut  ...        wrist         year\n",
              "Topic0     0.354025   508.821623  ...   200.758484   257.657562\n",
              "Topic1    59.221400     2.379052  ...  4440.952476    23.189471\n",
              "Topic2     0.201168  1918.983328  ...     0.204496   861.247422\n",
              "Topic3  1243.708512   247.309519  ...  2507.264064  4297.183904\n",
              "Topic4     0.202353     0.200860  ...     0.200890     5.573626\n",
              "\n",
              "[5 rows x 218 columns]"
            ]
          },
          "metadata": {
            "tags": []
          },
          "execution_count": 37
        }
      ]
    },
    {
      "cell_type": "code",
      "metadata": {
        "id": "gbU9U8V-DFDX",
        "colab": {
          "base_uri": "https://localhost:8080/",
          "height": 203
        },
        "outputId": "832e6641-af45-413c-8f14-3c30f870f902"
      },
      "source": [
        "# print top n keywords for each topic\n",
        "def print_topic_words(tfidf_model, lda_model, n_words):\n",
        "    words = np.array(tfidf_model.get_feature_names())\n",
        "    topic_words = []\n",
        "    # for each topic, we have words weight\n",
        "    for topic_words_weights in lda_model.components_:\n",
        "        top_words = topic_words_weights.argsort()[::-1][:n_words]\n",
        "        topic_words.append(words.take(top_words))\n",
        "    return topic_words\n",
        "\n",
        "topic_keywords = print_topic_words(tfidf_model=tfidf_model, lda_model=lda, n_words=15)        \n",
        "\n",
        "df_topic_words = pd.DataFrame(topic_keywords)\n",
        "df_topic_words.columns = ['Word '+str(i) for i in range(df_topic_words.shape[1])]\n",
        "df_topic_words.index = ['Topic '+str(i) for i in range(df_topic_words.shape[0])]\n",
        "df_topic_words"
      ],
      "execution_count": null,
      "outputs": [
        {
          "output_type": "execute_result",
          "data": {
            "text/html": [
              "<div>\n",
              "<style scoped>\n",
              "    .dataframe tbody tr th:only-of-type {\n",
              "        vertical-align: middle;\n",
              "    }\n",
              "\n",
              "    .dataframe tbody tr th {\n",
              "        vertical-align: top;\n",
              "    }\n",
              "\n",
              "    .dataframe thead th {\n",
              "        text-align: right;\n",
              "    }\n",
              "</style>\n",
              "<table border=\"1\" class=\"dataframe\">\n",
              "  <thead>\n",
              "    <tr style=\"text-align: right;\">\n",
              "      <th></th>\n",
              "      <th>Word 0</th>\n",
              "      <th>Word 1</th>\n",
              "      <th>Word 2</th>\n",
              "      <th>Word 3</th>\n",
              "      <th>Word 4</th>\n",
              "      <th>Word 5</th>\n",
              "      <th>Word 6</th>\n",
              "      <th>Word 7</th>\n",
              "      <th>Word 8</th>\n",
              "      <th>Word 9</th>\n",
              "      <th>Word 10</th>\n",
              "      <th>Word 11</th>\n",
              "      <th>Word 12</th>\n",
              "      <th>Word 13</th>\n",
              "      <th>Word 14</th>\n",
              "    </tr>\n",
              "  </thead>\n",
              "  <tbody>\n",
              "    <tr>\n",
              "      <th>Topic 0</th>\n",
              "      <td>watch</td>\n",
              "      <td>thank</td>\n",
              "      <td>love</td>\n",
              "      <td>husband</td>\n",
              "      <td>buy</td>\n",
              "      <td>wife</td>\n",
              "      <td>qualiti</td>\n",
              "      <td>fast</td>\n",
              "      <td>recommend</td>\n",
              "      <td>great</td>\n",
              "      <td>amaz</td>\n",
              "      <td>best</td>\n",
              "      <td>ship</td>\n",
              "      <td>big</td>\n",
              "      <td>high</td>\n",
              "    </tr>\n",
              "    <tr>\n",
              "      <th>Topic 1</th>\n",
              "      <td>good</td>\n",
              "      <td>watch</td>\n",
              "      <td>look</td>\n",
              "      <td>wrist</td>\n",
              "      <td>small</td>\n",
              "      <td>like</td>\n",
              "      <td>size</td>\n",
              "      <td>band</td>\n",
              "      <td>great</td>\n",
              "      <td>fit</td>\n",
              "      <td>nice</td>\n",
              "      <td>comfort</td>\n",
              "      <td>big</td>\n",
              "      <td>pretti</td>\n",
              "      <td>eleg</td>\n",
              "    </tr>\n",
              "    <tr>\n",
              "      <th>Topic 2</th>\n",
              "      <td>love</td>\n",
              "      <td>excel</td>\n",
              "      <td>beauti</td>\n",
              "      <td>gift</td>\n",
              "      <td>watch</td>\n",
              "      <td>awesom</td>\n",
              "      <td>like</td>\n",
              "      <td>son</td>\n",
              "      <td>bought</td>\n",
              "      <td>expect</td>\n",
              "      <td>compliment</td>\n",
              "      <td>daughter</td>\n",
              "      <td>christma</td>\n",
              "      <td>absolut</td>\n",
              "      <td>item</td>\n",
              "    </tr>\n",
              "    <tr>\n",
              "      <th>Topic 3</th>\n",
              "      <td>watch</td>\n",
              "      <td>time</td>\n",
              "      <td>band</td>\n",
              "      <td>work</td>\n",
              "      <td>look</td>\n",
              "      <td>like</td>\n",
              "      <td>use</td>\n",
              "      <td>batteri</td>\n",
              "      <td>day</td>\n",
              "      <td>year</td>\n",
              "      <td>wear</td>\n",
              "      <td>set</td>\n",
              "      <td>return</td>\n",
              "      <td>hand</td>\n",
              "      <td>replac</td>\n",
              "    </tr>\n",
              "    <tr>\n",
              "      <th>Topic 4</th>\n",
              "      <td>great</td>\n",
              "      <td>nice</td>\n",
              "      <td>watch</td>\n",
              "      <td>product</td>\n",
              "      <td>price</td>\n",
              "      <td>work</td>\n",
              "      <td>perfect</td>\n",
              "      <td>look</td>\n",
              "      <td>ok</td>\n",
              "      <td>good</td>\n",
              "      <td>qualiti</td>\n",
              "      <td>cheap</td>\n",
              "      <td>arriv</td>\n",
              "      <td>time</td>\n",
              "      <td>bad</td>\n",
              "    </tr>\n",
              "  </tbody>\n",
              "</table>\n",
              "</div>"
            ],
            "text/plain": [
              "        Word 0 Word 1  Word 2   Word 3  ...   Word 11   Word 12  Word 13 Word 14\n",
              "Topic 0  watch  thank    love  husband  ...      best      ship      big    high\n",
              "Topic 1   good  watch    look    wrist  ...   comfort       big   pretti    eleg\n",
              "Topic 2   love  excel  beauti     gift  ...  daughter  christma  absolut    item\n",
              "Topic 3  watch   time    band     work  ...       set    return     hand  replac\n",
              "Topic 4  great   nice   watch  product  ...     cheap     arriv     time     bad\n",
              "\n",
              "[5 rows x 15 columns]"
            ]
          },
          "metadata": {
            "tags": []
          },
          "execution_count": 38
        }
      ]
    }
  ]
}